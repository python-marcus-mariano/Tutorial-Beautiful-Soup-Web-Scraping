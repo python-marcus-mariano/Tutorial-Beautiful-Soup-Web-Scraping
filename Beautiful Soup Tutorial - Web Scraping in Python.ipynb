{
 "cells": [
  {
   "cell_type": "markdown",
   "metadata": {},
   "source": [
    "# Beautiful Soup Tutorial - Web Scraping in Python\n",
    "\n",
    "Tutorial for improve skills: 'Beautiful Soup Tutorial - Web Scraping in Python' (freeCodeCamp.org) by Marcus Mariano\n",
    "\n",
    "**For more information about Marcus Mariano: [Web site](https://marcusmariano.github.io/mmariano/)**  \n",
    "\n",
    "**Beautiful Soup Tutorial - Web Scraping in Python [here.](https://www.youtube.com/watch?v=87Gx3U0BDlo&t=219s)** "
   ]
  },
  {
   "cell_type": "code",
   "execution_count": 1,
   "metadata": {},
   "outputs": [],
   "source": [
    "from requests import get\n",
    "from bs4 import BeautifulSoup as bs4"
   ]
  },
  {
   "cell_type": "code",
   "execution_count": 4,
   "metadata": {},
   "outputs": [],
   "source": [
    "# Using the requests module, we use the \"get\" function\n",
    "# provided to access the webpage provided as an\n",
    "# argument to this function:\n",
    "result = get(\"https://www.google.com/\")"
   ]
  },
  {
   "cell_type": "code",
   "execution_count": 5,
   "metadata": {},
   "outputs": [
    {
     "name": "stdout",
     "output_type": "stream",
     "text": [
      "200\n"
     ]
    }
   ],
   "source": [
    "# To make sure that the website is accessible, we can\n",
    "# ensure that we obtain a 200 OK response to indicate\n",
    "# that the page is indeed present:\n",
    "print(result.status_code)"
   ]
  },
  {
   "cell_type": "code",
   "execution_count": 6,
   "metadata": {},
   "outputs": [
    {
     "name": "stdout",
     "output_type": "stream",
     "text": [
      "{'Date': 'Sat, 02 May 2020 13:15:48 GMT', 'Expires': '-1', 'Cache-Control': 'private, max-age=0', 'Content-Type': 'text/html; charset=ISO-8859-1', 'P3P': 'CP=\"This is not a P3P policy! See g.co/p3phelp for more info.\"', 'Content-Encoding': 'gzip', 'Server': 'gws', 'X-XSS-Protection': '0', 'X-Frame-Options': 'SAMEORIGIN', 'Set-Cookie': '1P_JAR=2020-05-02-13; expires=Mon, 01-Jun-2020 13:15:48 GMT; path=/; domain=.google.com; Secure, NID=203=SDM2iz7jeVatq-lEvEa7tElkWIYNaGTTGJq2YCXqrnvNezLiI4pdwL0WlQhBIvQ8mqr44PpsIzdzfrfosu1rd8dCfb3IfqqQITcLKzIKXo30NC3cFjzsbVltv6AQfsTJqZ05i56xyyyiCyn9RPMiMdWSnhplBOfaItZWB_ziHfw; expires=Sun, 01-Nov-2020 13:15:48 GMT; path=/; domain=.google.com; HttpOnly', 'Alt-Svc': 'h3-Q050=\":443\"; ma=2592000,h3-Q049=\":443\"; ma=2592000,h3-Q048=\":443\"; ma=2592000,h3-Q046=\":443\"; ma=2592000,h3-Q043=\":443\"; ma=2592000,quic=\":443\"; ma=2592000; v=\"46,43\"', 'Transfer-Encoding': 'chunked'}\n"
     ]
    }
   ],
   "source": [
    "# For other potential status codes you may encounter,\n",
    "# consult the following Wikipedia page:\n",
    "# https://en.wikipedia.org/wiki/List_of_HTTP_status_codes\n",
    "\n",
    "# We can also check the HTTP header of the website to\n",
    "# verify that we have indeed accessed the correct page:\n",
    "print(result.headers)"
   ]
  },
  {
   "cell_type": "code",
   "execution_count": 7,
   "metadata": {},
   "outputs": [],
   "source": [
    "# For more information on HTTP headers and the information\n",
    "# one can obtain from them, you may consult:\n",
    "# https://en.wikipedia.org/wiki/List_of_HTTP_header_fields\n",
    "\n",
    "# Now, let us store the page content of the website accessed\n",
    "# from requests to a variable:\n",
    "src = result.content"
   ]
  },
  {
   "cell_type": "code",
   "execution_count": 9,
   "metadata": {},
   "outputs": [],
   "source": [
    "# Now that we have the page source stored, we will use the\n",
    "# BeautifulSoup module to parse and process the source.\n",
    "# To do so, we create a BeautifulSoup object based on the\n",
    "# source variable we created above:\n",
    "soup = bs4(src, 'lxml')"
   ]
  },
  {
   "cell_type": "code",
   "execution_count": 12,
   "metadata": {},
   "outputs": [
    {
     "data": {
      "text/plain": [
       "<!DOCTYPE html>\n",
       "<html itemscope=\"\" itemtype=\"http://schema.org/WebPage\" lang=\"pt-BR\"><head><meta content=\"text/html; charset=utf-8\" http-equiv=\"Content-Type\"/><meta content=\"/images/branding/googleg/1x/googleg_standard_color_128dp.png\" itemprop=\"image\"/><title>Google</title><script nonce=\"O90sBvtV/ayDJmUPH35jzA==\">(function(){window.google={kEI:'hHKtXq_0KtDO5OUPlNWZ2AQ',kEXPI:'0,202123,3,4,1151616,5663,731,223,5105,206,1245,1959,10,1051,175,364,1435,4,60,576,127,114,383,246,5,860,494,377,176,260,25,200,327,329,58,1160,406,571,1123877,1197767,382,78,329040,1294,12383,4855,32691,15248,867,28684,369,8819,8384,1326,3532,1362,9290,3021,4747,3121,7912,1808,4020,978,7931,5297,2974,873,38,1179,1714,1,7690,11306,3222,4516,1397,1383,517,400,2277,8,2796,1593,1167,112,2212,532,147,561,542,840,517,1142,278,50,52,158,4100,312,1137,2,2063,606,1839,184,544,1233,522,1945,245,502,1482,93,328,1284,16,2927,2246,474,1339,748,1039,2269,1,957,773,1217,855,7,6068,8078,2662,642,605,802,1043,2458,1226,1462,3934,1275,108,3409,906,2,941,552,420,1642,2393,4,12,4941,17,449,225,996,830,218,10,612,1086,1349,3,12,334,230,970,865,2,376,1633,491,1416,707,148,189,3312,2489,28,1362,861,2599,498,320,526,47,83,1010,641,4,1538,17,261,2,379,283,1362,175,1,48,51,751,167,43,271,223,375,138,2,136,395,2,8,12,29,750,673,10,386,246,722,4,845,491,118,174,667,118,222,367,210,786,109,60,234,22,126,37,94,206,678,827,8,165,3,40,833,363,104,212,490,9,380,2489,112,359,228,254,343,612,249,15,756,124,741,12,5819561,3310,1802584,6996022,549,333,444,1,2,80,1,900,896,1,8,1,2,2551,1,748,141,59,736,563,1,4265,1,1,1,1,137,1,1193,1401,3,420,32,45,10,2,3,1,2,2,4,1,1,4,8,4,15,4,1,1,19,9,1,1,4,4,1,5,16,3,1,1,1,4,1,2,1,3,1,28,16,4,4,2,1,3,8,2,4,1,1,1,4,18,3,23962262',kBL:'N_3N'};google.sn='webhp';google.kHL='pt-BR';})();(function(){google.lc=[];google.li=0;google.getEI=function(a){for(var c;a&&(!a.getAttribute||!(c=a.getAttribute(\"eid\")));)a=a.parentNode;return c||google.kEI};google.getLEI=function(a){for(var c=null;a&&(!a.getAttribute||!(c=a.getAttribute(\"leid\")));)a=a.parentNode;return c};google.ml=function(){return null};google.time=function(){return Date.now()};google.log=function(a,c,b,d,g){if(b=google.logUrl(a,c,b,d,g)){a=new Image;var e=google.lc,f=google.li;e[f]=a;a.onerror=a.onload=a.onabort=function(){delete e[f]};google.vel&&google.vel.lu&&google.vel.lu(b);a.src=b;google.li=f+1}};google.logUrl=function(a,c,b,d,g){var e=\"\",f=google.ls||\"\";b||-1!=c.search(\"&ei=\")||(e=\"&ei=\"+google.getEI(d),-1==c.search(\"&lei=\")&&(d=google.getLEI(d))&&(e+=\"&lei=\"+d));d=\"\";!b&&google.cshid&&-1==c.search(\"&cshid=\")&&\"slh\"!=a&&(d=\"&cshid=\"+google.cshid);b=b||\"/\"+(g||\"gen_204\")+\"?atyp=i&ct=\"+a+\"&cad=\"+c+e+f+\"&zx=\"+google.time()+d;/^http:/i.test(b)&&\"https:\"==window.location.protocol&&(google.ml(Error(\"a\"),!1,{src:b,glmm:1}),b=\"\");return b};}).call(this);(function(){google.y={};google.x=function(a,b){if(a)var c=a.id;else{do c=Math.random();while(google.y[c])}google.y[c]=[a,b];return!1};google.lm=[];google.plm=function(a){google.lm.push.apply(google.lm,a)};google.lq=[];google.load=function(a,b,c){google.lq.push([[a],b,c])};google.loadAll=function(a,b){google.lq.push([a,b])};}).call(this);google.f={};(function(){\n",
       "document.documentElement.addEventListener(\"submit\",function(b){var a;if(a=b.target){var c=a.getAttribute(\"data-submitfalse\");a=\"1\"==c||\"q\"==c&&!a.elements.q.value?!0:!1}else a=!1;a&&(b.preventDefault(),b.stopPropagation())},!0);document.documentElement.addEventListener(\"click\",function(b){var a;a:{for(a=b.target;a&&a!=document.documentElement;a=a.parentElement)if(\"A\"==a.tagName){a=\"1\"==a.getAttribute(\"data-nohref\");break a}a=!1}a&&b.preventDefault()},!0);}).call(this);\n",
       "var a=window.location,b=a.href.indexOf(\"#\");if(0<=b){var c=a.href.substring(b+1);/(^|&)q=/.test(c)&&-1==c.indexOf(\"#\")&&a.replace(\"/search?\"+c.replace(/(^|&)fp=[^&]*/g,\"\")+\"&cad=h\")};</script><style>#gbar,#guser{font-size:13px;padding-top:1px !important;}#gbar{height:22px}#guser{padding-bottom:7px !important;text-align:right}.gbh,.gbd{border-top:1px solid #c9d7f1;font-size:1px}.gbh{height:0;position:absolute;top:24px;width:100%}@media all{.gb1{height:22px;margin-right:.5em;vertical-align:top}#gbar{float:left}}a.gb1,a.gb4{text-decoration:underline !important}a.gb1,a.gb4{color:#00c !important}.gbi .gb4{color:#dd8e27 !important}.gbf .gb4{color:#900 !important}\n",
       "</style><style>body,td,a,p,.h{font-family:arial,sans-serif}body{margin:0;overflow-y:scroll}#gog{padding:3px 8px 0}td{line-height:.8em}.gac_m td{line-height:17px}form{margin-bottom:20px}.h{color:#36c}.q{color:#00c}.ts td{padding:0}.ts{border-collapse:collapse}em{font-weight:bold;font-style:normal}.lst{height:25px;width:496px}.gsfi,.lst{font:18px arial,sans-serif}.gsfs{font:17px arial,sans-serif}.ds{display:inline-box;display:inline-block;margin:3px 0 4px;margin-left:4px}input{font-family:inherit}body{background:#fff;color:#000}a{color:#11c;text-decoration:none}a:hover,a:active{text-decoration:underline}.fl a{color:#36c}a:visited{color:#551a8b}.sblc{padding-top:5px}.sblc a{display:block;margin:2px 0;margin-left:13px;font-size:11px}.lsbb{background:#eee;border:solid 1px;border-color:#ccc #999 #999 #ccc;height:30px}.lsbb{display:block}.ftl,#fll a{display:inline-block;margin:0 12px}.lsb{background:url(/images/nav_logo229.png) 0 -261px repeat-x;border:none;color:#000;cursor:pointer;height:30px;margin:0;outline:0;font:15px arial,sans-serif;vertical-align:top}.lsb:active{background:#ccc}.lst:focus{outline:none}.tiah{width:458px}</style><script nonce=\"O90sBvtV/ayDJmUPH35jzA==\"></script></head><body bgcolor=\"#fff\"><script nonce=\"O90sBvtV/ayDJmUPH35jzA==\">(function(){var src='/images/nav_logo229.png';var iesg=false;document.body.onload = function(){window.n && window.n();if (document.images){new Image().src=src;}\n",
       "if (!iesg){document.f&&document.f.q.focus();document.gbqf&&document.gbqf.q.focus();}\n",
       "}\n",
       "})();</script><div id=\"mngb\"> <div id=\"gbar\"><nobr><b class=\"gb1\">Pesquisa</b> <a class=\"gb1\" href=\"https://www.google.com.br/imghp?hl=pt-BR&amp;tab=wi\">Imagens</a> <a class=\"gb1\" href=\"https://maps.google.com.br/maps?hl=pt-BR&amp;tab=wl\">Maps</a> <a class=\"gb1\" href=\"https://play.google.com/?hl=pt-BR&amp;tab=w8\">Play</a> <a class=\"gb1\" href=\"https://www.youtube.com/?gl=BR&amp;tab=w1\">YouTube</a> <a class=\"gb1\" href=\"https://news.google.com.br/nwshp?hl=pt-BR&amp;tab=wn\">Notícias</a> <a class=\"gb1\" href=\"https://mail.google.com/mail/?tab=wm\">Gmail</a> <a class=\"gb1\" href=\"https://drive.google.com/?tab=wo\">Drive</a> <a class=\"gb1\" href=\"https://www.google.com.br/intl/pt-BR/about/products?tab=wh\" style=\"text-decoration:none\"><u>Mais</u> »</a></nobr></div><div id=\"guser\" width=\"100%\"><nobr><span class=\"gbi\" id=\"gbn\"></span><span class=\"gbf\" id=\"gbf\"></span><span id=\"gbe\"></span><a class=\"gb4\" href=\"http://www.google.com.br/history/optout?hl=pt-BR\">Histórico da Web</a> | <a class=\"gb4\" href=\"/preferences?hl=pt-BR\">Configurações</a> | <a class=\"gb4\" href=\"https://accounts.google.com/ServiceLogin?hl=pt-BR&amp;passive=true&amp;continue=https://www.google.com/\" id=\"gb_70\" target=\"_top\">Fazer login</a></nobr></div><div class=\"gbh\" style=\"left:0\"></div><div class=\"gbh\" style=\"right:0\"></div> </div><center><br clear=\"all\" id=\"lgpd\"/><div id=\"lga\"><img alt=\"Google\" height=\"92\" id=\"hplogo\" src=\"/images/branding/googlelogo/1x/googlelogo_white_background_color_272x92dp.png\" style=\"padding:28px 0 14px\" width=\"272\"/><br/><br/></div><form action=\"/search\" name=\"f\"><table cellpadding=\"0\" cellspacing=\"0\"><tr valign=\"top\"><td width=\"25%\"> </td><td align=\"center\" nowrap=\"\"><input name=\"ie\" type=\"hidden\" value=\"ISO-8859-1\"/><input name=\"hl\" type=\"hidden\" value=\"pt-BR\"/><input name=\"source\" type=\"hidden\" value=\"hp\"/><input name=\"biw\" type=\"hidden\"/><input name=\"bih\" type=\"hidden\"/><div class=\"ds\" style=\"height:32px;margin:4px 0\"><div style=\"position:relative;zoom:1\"><input autocomplete=\"off\" class=\"lst tiah\" maxlength=\"2048\" name=\"q\" size=\"57\" style=\"margin:0;padding:5px 8px 0 6px;vertical-align:top;color:#000;padding-right:38px\" title=\"Pesquisa Google\" value=\"\"/><img alt=\"\" data-script-url=\"/textinputassistant/11/pt-BR_tia.js\" height=\"23\" id=\"tsuid1\" src=\"/textinputassistant/tia.png\" style=\"position:absolute;cursor:pointer;right:5px;top:4px;z-index:300\" width=\"27\"/><script nonce=\"O90sBvtV/ayDJmUPH35jzA==\">(function(){var id='tsuid1';document.getElementById(id).onclick = function(){var s = document.createElement('script');s.src = this.getAttribute('data-script-url');(document.getElementById('xjsc')||document.body).appendChild(s);};})();</script></div></div><br style=\"line-height:0\"/><span class=\"ds\"><span class=\"lsbb\"><input class=\"lsb\" name=\"btnG\" type=\"submit\" value=\"Pesquisa Google\"/></span></span><span class=\"ds\"><span class=\"lsbb\"><input class=\"lsb\" id=\"tsuid2\" name=\"btnI\" type=\"submit\" value=\"Estou com sorte\"/><script nonce=\"O90sBvtV/ayDJmUPH35jzA==\">(function(){var id='tsuid2';document.getElementById(id).onclick = function(){if (this.form.q.value){this.checked = 1;if (this.form.iflsig)this.form.iflsig.disabled = false;}\n",
       "else top.location='/doodles/';};})();</script><input name=\"iflsig\" type=\"hidden\" value=\"AINFCbYAAAAAXq2AlI-l7bvYb9FcCp2tbFE8x1DB872v\"/></span></span></td><td align=\"left\" class=\"fl sblc\" nowrap=\"\" width=\"25%\"><a href=\"/advanced_search?hl=pt-BR&amp;authuser=0\">Pesquisa avançada</a></td></tr></table><input id=\"gbv\" name=\"gbv\" type=\"hidden\" value=\"1\"/><script nonce=\"O90sBvtV/ayDJmUPH35jzA==\">(function(){var a,b=\"1\";if(document&&document.getElementById)if(\"undefined\"!=typeof XMLHttpRequest)b=\"2\";else if(\"undefined\"!=typeof ActiveXObject){var c,d,e=[\"MSXML2.XMLHTTP.6.0\",\"MSXML2.XMLHTTP.3.0\",\"MSXML2.XMLHTTP\",\"Microsoft.XMLHTTP\"];for(c=0;d=e[c++];)try{new ActiveXObject(d),b=\"2\"}catch(h){}}a=b;if(\"2\"==a&&-1==location.search.indexOf(\"&gbv=2\")){var f=google.gbvu,g=document.getElementById(\"gbv\");g&&(g.value=a);f&&window.setTimeout(function(){location.href=f},0)};}).call(this);</script></form><div id=\"gac_scont\"></div><div style=\"font-size:83%;min-height:3.5em\"><br/><div id=\"prm\"><style>.szppmdbYutt__middle-slot-promo{font-size:small;margin-bottom:32px}.szppmdbYutt__middle-slot-promo a.ZIeIlb{display:inline-block;text-decoration:none}.szppmdbYutt__middle-slot-promo img{border:none;margin-right:5px;vertical-align:middle}</style><div class=\"szppmdbYutt__middle-slot-promo\" data-ved=\"0ahUKEwivxqXFoZXpAhVQJ7kGHZRqBksQnIcBCAQ\"><a class=\"NKcBbd\" href=\"https://www.google.com/url?q=https://safety.google/securitytips-covid19/%3Flang%3Dpt-br&amp;source=hpp&amp;id=19017711&amp;ct=3&amp;usg=AFQjCNGkIDmwcVYTO5obk2pM3uqOCI4_tA&amp;sa=X&amp;ved=0ahUKEwivxqXFoZXpAhVQJ7kGHZRqBksQ8IcBCAU\" rel=\"nofollow\">Dicas úteis para evitar golpes on-line relacionados à COVID-19</a></div></div></div><span id=\"footer\"><div style=\"font-size:10pt\"><div id=\"fll\" style=\"margin:19px auto;text-align:center\"><a href=\"/intl/pt-BR/ads/\">Soluções de publicidade</a><a href=\"/services/\">Soluções empresariais</a><a href=\"/intl/pt-BR/about.html\">Sobre o Google</a><a href=\"https://www.google.com/setprefdomain?prefdom=BR&amp;prev=https://www.google.com.br/&amp;sig=K_9DTFwImqtGtaH0ckrY17nppxfsE%3D\">Google.com.br</a></div></div><p style=\"font-size:8pt;color:#767676\">© 2020 - <a href=\"/intl/pt-BR/policies/privacy/\">Privacidade</a> - <a href=\"/intl/pt-BR/policies/terms/\">Termos</a></p></span></center><script nonce=\"O90sBvtV/ayDJmUPH35jzA==\">(function(){window.google.cdo={height:0,width:0};(function(){var a=window.innerWidth,b=window.innerHeight;if(!a||!b){var c=window.document,d=\"CSS1Compat\"==c.compatMode?c.documentElement:c.body;a=d.clientWidth;b=d.clientHeight}a&&b&&(a!=google.cdo.width||b!=google.cdo.height)&&google.log(\"\",\"\",\"/client_204?&atyp=i&biw=\"+a+\"&bih=\"+b+\"&ei=\"+google.kEI);}).call(this);})();(function(){var u='/xjs/_/js/k\\x3dxjs.hp.en.rs9g0LI6Amg.O/m\\x3dsb_he,d/am\\x3dAF8IbA4/d\\x3d1/rs\\x3dACT90oHwdmWJAn9aeaQ7aAMYtWdTbkgAcw';\n",
       "setTimeout(function(){var b=document;var a=\"SCRIPT\";\"application/xhtml+xml\"===b.contentType&&(a=a.toLowerCase());a=b.createElement(a);a.src=u;google.timers&&google.timers.load&&google.tick&&google.tick(\"load\",\"xjsls\");document.body.appendChild(a)},0);})();(function(){window.google.xjsu='/xjs/_/js/k\\x3dxjs.hp.en.rs9g0LI6Amg.O/m\\x3dsb_he,d/am\\x3dAF8IbA4/d\\x3d1/rs\\x3dACT90oHwdmWJAn9aeaQ7aAMYtWdTbkgAcw';})();function _DumpException(e){throw e;}\n",
       "function _F_installCss(c){}\n",
       "(function(){google.jl={em:[],emw:false,lls:'default',pdt:0,snet:true,uwp:true};})();(function(){var pmc='{\\x22d\\x22:{},\\x22sb_he\\x22:{\\x22agen\\x22:true,\\x22cgen\\x22:true,\\x22client\\x22:\\x22heirloom-hp\\x22,\\x22dh\\x22:true,\\x22dhqt\\x22:true,\\x22ds\\x22:\\x22\\x22,\\x22ffql\\x22:\\x22pt-BR\\x22,\\x22fl\\x22:true,\\x22host\\x22:\\x22google.com\\x22,\\x22isbh\\x22:28,\\x22jsonp\\x22:true,\\x22msgs\\x22:{\\x22cibl\\x22:\\x22Limpar pesquisa\\x22,\\x22dym\\x22:\\x22Você quis dizer:\\x22,\\x22lcky\\x22:\\x22Estou com sorte\\x22,\\x22lml\\x22:\\x22Saiba mais\\x22,\\x22oskt\\x22:\\x22Ferramentas de inserção de texto\\x22,\\x22psrc\\x22:\\x22Esta pesquisa foi removida do seu\\\\u003Ca href\\x3d\\\\\\x22/history\\\\\\x22\\\\u003EHistórico da web\\\\u003C/a\\\\u003E\\x22,\\x22psrl\\x22:\\x22Remover\\x22,\\x22sbit\\x22:\\x22Pesquisa por imagem\\x22,\\x22srch\\x22:\\x22Pesquisa Google\\x22},\\x22ovr\\x22:{},\\x22pq\\x22:\\x22\\x22,\\x22refpd\\x22:true,\\x22rfs\\x22:[],\\x22sbpl\\x22:16,\\x22sbpr\\x22:16,\\x22scd\\x22:10,\\x22stok\\x22:\\x22UpAuBX3Z5T1WQYsqPRjbRbXtmeU\\x22,\\x22uhde\\x22:false}}';google.pmc=JSON.parse(pmc);})();</script> </body></html>"
      ]
     },
     "execution_count": 12,
     "metadata": {},
     "output_type": "execute_result"
    }
   ],
   "source": [
    "soup"
   ]
  },
  {
   "cell_type": "code",
   "execution_count": 11,
   "metadata": {},
   "outputs": [
    {
     "name": "stdout",
     "output_type": "stream",
     "text": [
      "[<a class=\"gb1\" href=\"https://www.google.com.br/imghp?hl=pt-BR&amp;tab=wi\">Imagens</a>, <a class=\"gb1\" href=\"https://maps.google.com.br/maps?hl=pt-BR&amp;tab=wl\">Maps</a>, <a class=\"gb1\" href=\"https://play.google.com/?hl=pt-BR&amp;tab=w8\">Play</a>, <a class=\"gb1\" href=\"https://www.youtube.com/?gl=BR&amp;tab=w1\">YouTube</a>, <a class=\"gb1\" href=\"https://news.google.com.br/nwshp?hl=pt-BR&amp;tab=wn\">Notícias</a>, <a class=\"gb1\" href=\"https://mail.google.com/mail/?tab=wm\">Gmail</a>, <a class=\"gb1\" href=\"https://drive.google.com/?tab=wo\">Drive</a>, <a class=\"gb1\" href=\"https://www.google.com.br/intl/pt-BR/about/products?tab=wh\" style=\"text-decoration:none\"><u>Mais</u> »</a>, <a class=\"gb4\" href=\"http://www.google.com.br/history/optout?hl=pt-BR\">Histórico da Web</a>, <a class=\"gb4\" href=\"/preferences?hl=pt-BR\">Configurações</a>, <a class=\"gb4\" href=\"https://accounts.google.com/ServiceLogin?hl=pt-BR&amp;passive=true&amp;continue=https://www.google.com/\" id=\"gb_70\" target=\"_top\">Fazer login</a>, <a href=\"/advanced_search?hl=pt-BR&amp;authuser=0\">Pesquisa avançada</a>, <a class=\"NKcBbd\" href=\"https://www.google.com/url?q=https://safety.google/securitytips-covid19/%3Flang%3Dpt-br&amp;source=hpp&amp;id=19017711&amp;ct=3&amp;usg=AFQjCNGkIDmwcVYTO5obk2pM3uqOCI4_tA&amp;sa=X&amp;ved=0ahUKEwivxqXFoZXpAhVQJ7kGHZRqBksQ8IcBCAU\" rel=\"nofollow\">Dicas úteis para evitar golpes on-line relacionados à COVID-19</a>, <a href=\"/intl/pt-BR/ads/\">Soluções de publicidade</a>, <a href=\"/services/\">Soluções empresariais</a>, <a href=\"/intl/pt-BR/about.html\">Sobre o Google</a>, <a href=\"https://www.google.com/setprefdomain?prefdom=BR&amp;prev=https://www.google.com.br/&amp;sig=K_9DTFwImqtGtaH0ckrY17nppxfsE%3D\">Google.com.br</a>, <a href=\"/intl/pt-BR/policies/privacy/\">Privacidade</a>, <a href=\"/intl/pt-BR/policies/terms/\">Termos</a>]\n",
      "\n",
      "\n"
     ]
    }
   ],
   "source": [
    "# Now that the page source has been processed via Beautifulsoup\n",
    "# we can access specific information directly from it. For instance,\n",
    "# say we want to see a list of all of the links on the page:\n",
    "links = soup.find_all(\"a\")\n",
    "print(links)\n",
    "print(\"\\n\")"
   ]
  },
  {
   "cell_type": "code",
   "execution_count": 16,
   "metadata": {},
   "outputs": [
    {
     "name": "stdout",
     "output_type": "stream",
     "text": [
      "<a href=\"/intl/pt-BR/about.html\">Sobre o Google</a>\n",
      "/intl/pt-BR/about.html\n"
     ]
    }
   ],
   "source": [
    "# Perhaps we just want to extract the link that has contains the text\n",
    "# \"About\" on the page instead of every link. We can use the built-in\n",
    "# \"text\" function to access the text content between the <a> </a>\n",
    "# tags.\n",
    "for link in links:\n",
    "    if \"Sobre\" in link.text:\n",
    "        print(link)\n",
    "        print(link.attrs['href'])"
   ]
  }
 ],
 "metadata": {
  "kernelspec": {
   "display_name": "Python 3",
   "language": "python",
   "name": "python3"
  },
  "language_info": {
   "codemirror_mode": {
    "name": "ipython",
    "version": 3
   },
   "file_extension": ".py",
   "mimetype": "text/x-python",
   "name": "python",
   "nbconvert_exporter": "python",
   "pygments_lexer": "ipython3",
   "version": "3.7.6"
  }
 },
 "nbformat": 4,
 "nbformat_minor": 4
}
