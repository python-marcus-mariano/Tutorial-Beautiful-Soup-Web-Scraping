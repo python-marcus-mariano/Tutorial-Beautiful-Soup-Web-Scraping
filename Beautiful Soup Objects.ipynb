{
 "cells": [
  {
   "cell_type": "markdown",
   "metadata": {},
   "source": [
    "# Beautiful Soup Objects\n",
    "\n",
    "Tutorial for improve skills: 'Beautiful Soup Tutorial - Web Scraping in Python' (freeCodeCamp.org) by Marcus Mariano\n",
    "\n",
    "**For more information about Marcus Mariano: [Web site](https://marcusmariano.github.io/mmariano/)**  \n",
    "\n",
    "**Beautiful Soup Tutorial - Web Scraping in Python [here.](https://www.youtube.com/watch?v=87Gx3U0BDlo&t=219s)** "
   ]
  },
  {
   "cell_type": "code",
   "execution_count": 1,
   "metadata": {},
   "outputs": [],
   "source": [
    "from bs4 import BeautifulSoup as bs4"
   ]
  },
  {
   "cell_type": "code",
   "execution_count": 2,
   "metadata": {},
   "outputs": [],
   "source": [
    "# To keep things simple and also reproducible, consider the following HTML code\n",
    "html_doc = \"\"\"\n",
    "<html><head><title>The Dormouse's story</title></head>\n",
    "<body>\n",
    "<p class=\"title\"><b>The Dormouse's story</b></p>\n",
    "\n",
    "<p class=\"story\">Once upon a time there were three little sisters; their names:\n",
    "<a href=\"http://example.com/elsie\" class=\"sister\" id=\"link1\">Elsie</a>,\n",
    "<a href=\"http://example.com/lacie\" class=\"sister\" id=\"link2\">Lacie</a> and\n",
    "<a href=\"http://example.com/tillie\" class=\"sister\" id=\"link3\">Tillie</a>;\n",
    "and they lived at the bottom of a well.</p>\n",
    "\n",
    "<p class=\"story\">...</p>\n",
    "\n",
    "<b class=\"boldest\">Extremely bold</b>\n",
    "<blockquote class=\"boldest\">Extremely bold</blockquote>\n",
    "<b id=\"1\">Test 1</b>\n",
    "<b another-attribute=\"1\" id=\"verybold\">Test 2</b>\n",
    "\"\"\"\n"
   ]
  },
  {
   "cell_type": "code",
   "execution_count": 6,
   "metadata": {},
   "outputs": [],
   "source": [
    "with open('index.html', 'w') as f:\n",
    "    f.write(html_doc)"
   ]
  },
  {
   "cell_type": "code",
   "execution_count": 26,
   "metadata": {},
   "outputs": [],
   "source": [
    "soup = bs4(html_doc, \"lxml\")"
   ]
  },
  {
   "cell_type": "code",
   "execution_count": 4,
   "metadata": {},
   "outputs": [
    {
     "name": "stdout",
     "output_type": "stream",
     "text": [
      "<html><head><title>The Dormouse's story</title></head>\n",
      "<body>\n",
      "<p class=\"title\"><b>The Dormouse's story</b></p>\n",
      "<p class=\"story\">Once upon a time there were three little sisters; their names:\n",
      "<a class=\"sister\" href=\"http://example.com/elsie\" id=\"link1\">Elsie</a>,\n",
      "<a class=\"sister\" href=\"http://example.com/lacie\" id=\"link2\">Lacie</a> and\n",
      "<a class=\"sister\" href=\"http://example.com/tillie\" id=\"link3\">Tillie</a>;\n",
      "and they lived at the bottom of a well.</p>\n",
      "<p class=\"story\">...</p>\n",
      "<b class=\"boldest\">Extremely bold</b>\n",
      "<blockquote class=\"boldest\">Extremely bold</blockquote>\n",
      "<b id=\"1\">Test 1</b>\n",
      "<b another-attribute=\"1\" id=\"verybold\">Test 2</b>\n",
      "</body></html>\n"
     ]
    }
   ],
   "source": [
    "# Print out nicely formatted HTML:\n",
    "print(soup)"
   ]
  },
  {
   "cell_type": "code",
   "execution_count": 5,
   "metadata": {},
   "outputs": [
    {
     "name": "stdout",
     "output_type": "stream",
     "text": [
      "<html>\n",
      " <head>\n",
      "  <title>\n",
      "   The Dormouse's story\n",
      "  </title>\n",
      " </head>\n",
      " <body>\n",
      "  <p class=\"title\">\n",
      "   <b>\n",
      "    The Dormouse's story\n",
      "   </b>\n",
      "  </p>\n",
      "  <p class=\"story\">\n",
      "   Once upon a time there were three little sisters; their names:\n",
      "   <a class=\"sister\" href=\"http://example.com/elsie\" id=\"link1\">\n",
      "    Elsie\n",
      "   </a>\n",
      "   ,\n",
      "   <a class=\"sister\" href=\"http://example.com/lacie\" id=\"link2\">\n",
      "    Lacie\n",
      "   </a>\n",
      "   and\n",
      "   <a class=\"sister\" href=\"http://example.com/tillie\" id=\"link3\">\n",
      "    Tillie\n",
      "   </a>\n",
      "   ;\n",
      "and they lived at the bottom of a well.\n",
      "  </p>\n",
      "  <p class=\"story\">\n",
      "   ...\n",
      "  </p>\n",
      "  <b class=\"boldest\">\n",
      "   Extremely bold\n",
      "  </b>\n",
      "  <blockquote class=\"boldest\">\n",
      "   Extremely bold\n",
      "  </blockquote>\n",
      "  <b id=\"1\">\n",
      "   Test 1\n",
      "  </b>\n",
      "  <b another-attribute=\"1\" id=\"verybold\">\n",
      "   Test 2\n",
      "  </b>\n",
      " </body>\n",
      "</html>\n"
     ]
    }
   ],
   "source": [
    "# Print out nicely formatted HTML:\n",
    "print(soup.prettify())"
   ]
  },
  {
   "cell_type": "markdown",
   "metadata": {},
   "source": [
    "## Tag:\n"
   ]
  },
  {
   "cell_type": "code",
   "execution_count": 6,
   "metadata": {},
   "outputs": [
    {
     "name": "stdout",
     "output_type": "stream",
     "text": [
      "<b>The Dormouse's story</b>\n"
     ]
    }
   ],
   "source": [
    "# Tag:\n",
    "\n",
    "# Finds the first occurrence of usage for a \"b\"\n",
    "# bold tag.\n",
    "print(soup.b)\n"
   ]
  },
  {
   "cell_type": "code",
   "execution_count": 7,
   "metadata": {},
   "outputs": [
    {
     "name": "stdout",
     "output_type": "stream",
     "text": [
      "<p class=\"title\"><b>The Dormouse's story</b></p>\n"
     ]
    }
   ],
   "source": [
    "# Tag:\n",
    "print(soup.p)"
   ]
  },
  {
   "cell_type": "code",
   "execution_count": 8,
   "metadata": {},
   "outputs": [
    {
     "name": "stdout",
     "output_type": "stream",
     "text": [
      "<b>The Dormouse's story</b>\n"
     ]
    }
   ],
   "source": [
    "\n",
    "# The \"find\" function also does the same, where it\n",
    "# only finds the first occurrence in the HTML doc\n",
    "# of a tag with \"b\".\n",
    "print(soup.find('b'))"
   ]
  },
  {
   "cell_type": "code",
   "execution_count": 9,
   "metadata": {},
   "outputs": [
    {
     "name": "stdout",
     "output_type": "stream",
     "text": [
      "[<b>The Dormouse's story</b>, <b class=\"boldest\">Extremely bold</b>, <b id=\"1\">Test 1</b>, <b another-attribute=\"1\" id=\"verybold\">Test 2</b>]\n"
     ]
    }
   ],
   "source": [
    "# If we want to find all of the elements on the page\n",
    "# with the \"b\" tag, we can use the \"find_all\" function.\n",
    "print(soup.find_all('b'))"
   ]
  },
  {
   "cell_type": "code",
   "execution_count": 10,
   "metadata": {},
   "outputs": [
    {
     "data": {
      "text/plain": [
       "4"
      ]
     },
     "execution_count": 10,
     "metadata": {},
     "output_type": "execute_result"
    }
   ],
   "source": [
    "len(soup.find_all('b'))"
   ]
  },
  {
   "cell_type": "code",
   "execution_count": 15,
   "metadata": {},
   "outputs": [
    {
     "name": "stdout",
     "output_type": "stream",
     "text": [
      "<b>The Dormouse's story</b>\n"
     ]
    }
   ],
   "source": [
    "# Tag:\n",
    "\n",
    "# Finds the first occurrence of usage for a \"b\"\n",
    "# bold tag.\n",
    "print(soup.b)"
   ]
  },
  {
   "cell_type": "markdown",
   "metadata": {},
   "source": [
    "## Name:\n"
   ]
  },
  {
   "cell_type": "code",
   "execution_count": 16,
   "metadata": {},
   "outputs": [
    {
     "name": "stdout",
     "output_type": "stream",
     "text": [
      "b\n"
     ]
    }
   ],
   "source": [
    "# Name:\n",
    "\n",
    "# This gives the name of the tag. In this case, the \n",
    "# tag name is \"b\".\n",
    "print(soup.b.name)"
   ]
  },
  {
   "cell_type": "code",
   "execution_count": 12,
   "metadata": {},
   "outputs": [
    {
     "name": "stdout",
     "output_type": "stream",
     "text": [
      "p\n"
     ]
    }
   ],
   "source": [
    "print(soup.p.name)"
   ]
  },
  {
   "cell_type": "code",
   "execution_count": 17,
   "metadata": {},
   "outputs": [
    {
     "name": "stdout",
     "output_type": "stream",
     "text": [
      "<b>The Dormouse's story</b>\n",
      "<blockquote>The Dormouse's story</blockquote>\n"
     ]
    }
   ],
   "source": [
    "# We can alter the name and have that reflected in the\n",
    "# source. For instance:\n",
    "tag = soup.b\n",
    "print(tag)\n",
    "tag.name = \"blockquote\"\n",
    "print(tag)"
   ]
  },
  {
   "cell_type": "markdown",
   "metadata": {},
   "source": [
    "## Attributes:\n"
   ]
  },
  {
   "cell_type": "code",
   "execution_count": 11,
   "metadata": {},
   "outputs": [
    {
     "name": "stdout",
     "output_type": "stream",
     "text": [
      "<b id=\"1\">Test 1</b>\n"
     ]
    }
   ],
   "source": [
    "# Attributes:\n",
    "\n",
    "tag = soup.find_all('b')[2]\n",
    "print(tag)"
   ]
  },
  {
   "cell_type": "code",
   "execution_count": 12,
   "metadata": {},
   "outputs": [
    {
     "name": "stdout",
     "output_type": "stream",
     "text": [
      "1\n"
     ]
    }
   ],
   "source": [
    "# This specific tag has the attribute \"id\", which\n",
    "# can be accessed like so:\n",
    "print(tag['id'])"
   ]
  },
  {
   "cell_type": "code",
   "execution_count": 15,
   "metadata": {},
   "outputs": [
    {
     "name": "stdout",
     "output_type": "stream",
     "text": [
      "<b another-attribute=\"1\" id=\"verybold\">Test 2</b>\n"
     ]
    }
   ],
   "source": [
    "tag = soup.find_all('b')[3]\n",
    "print(tag)"
   ]
  },
  {
   "cell_type": "code",
   "execution_count": 16,
   "metadata": {},
   "outputs": [
    {
     "name": "stdout",
     "output_type": "stream",
     "text": [
      "verybold\n",
      "1\n"
     ]
    }
   ],
   "source": [
    "# We can even access multiple attributes that are\n",
    "# non-standard HTML attributes:\n",
    "print(tag['id'])\n",
    "print(tag['another-attribute'])"
   ]
  },
  {
   "cell_type": "code",
   "execution_count": 18,
   "metadata": {},
   "outputs": [
    {
     "name": "stdout",
     "output_type": "stream",
     "text": [
      "<b another-attribute=\"1\" id=\"verybold\">Test 2</b>\n"
     ]
    }
   ],
   "source": [
    "# If we want to see all attributes, we can access them\n",
    "# as a dictionary object:\n",
    "tag = soup.find_all('b')[3]\n",
    "print(tag)"
   ]
  },
  {
   "cell_type": "code",
   "execution_count": 19,
   "metadata": {},
   "outputs": [
    {
     "name": "stdout",
     "output_type": "stream",
     "text": [
      "{'another-attribute': '1', 'id': 'verybold'}\n"
     ]
    }
   ],
   "source": [
    "print(tag.attrs)"
   ]
  },
  {
   "cell_type": "code",
   "execution_count": 20,
   "metadata": {},
   "outputs": [
    {
     "name": "stdout",
     "output_type": "stream",
     "text": [
      "<b another-attribute=\"1\" id=\"verybold\">Test 2</b>\n",
      "<b another-attribute=\"2\" id=\"verybold\">Test 2</b>\n"
     ]
    }
   ],
   "source": [
    "# These properties are mutable, and we can alter them\n",
    "# in the following manner.\n",
    "print(tag)\n",
    "tag['another-attribute'] = 2\n",
    "print(tag)"
   ]
  },
  {
   "cell_type": "code",
   "execution_count": 21,
   "metadata": {},
   "outputs": [
    {
     "name": "stdout",
     "output_type": "stream",
     "text": [
      "<b>Test 2</b>\n"
     ]
    }
   ],
   "source": [
    "# We can also use Python's del command for lists to\n",
    "# remove attributes:\n",
    "del tag['id']\n",
    "del tag['another-attribute']\n",
    "print(tag)"
   ]
  },
  {
   "cell_type": "code",
   "execution_count": 22,
   "metadata": {},
   "outputs": [
    {
     "name": "stdout",
     "output_type": "stream",
     "text": [
      "<b>Test 2</b>\n",
      "Test 2\n"
     ]
    }
   ],
   "source": [
    "# Multi-valued Attributes\n",
    "tag = soup.find_all('b')[3]\n",
    "print(tag)\n",
    "print(tag.string)\n"
   ]
  },
  {
   "cell_type": "code",
   "execution_count": 27,
   "metadata": {},
   "outputs": [
    {
     "name": "stdout",
     "output_type": "stream",
     "text": [
      "<b another-attribute=\"1\" id=\"verybold\">Test 2</b>\n",
      "<b another-attribute=\"1\" id=\"verybold\">This is another string</b>\n"
     ]
    }
   ],
   "source": [
    "tag = soup.find_all('b')[3]\n",
    "print(tag)\n",
    "# We can use the \"replace_with\" function to replace\n",
    "# the content of the string with something different:\n",
    "tag.string.replace_with(\"This is another string\")\n",
    "print(tag)"
   ]
  }
 ],
 "metadata": {
  "kernelspec": {
   "display_name": "Python 3",
   "language": "python",
   "name": "python3"
  },
  "language_info": {
   "codemirror_mode": {
    "name": "ipython",
    "version": 3
   },
   "file_extension": ".py",
   "mimetype": "text/x-python",
   "name": "python",
   "nbconvert_exporter": "python",
   "pygments_lexer": "ipython3",
   "version": "3.7.6"
  }
 },
 "nbformat": 4,
 "nbformat_minor": 4
}
